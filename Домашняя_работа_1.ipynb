{
 "cells": [
  {
   "cell_type": "markdown",
   "id": "7c522996",
   "metadata": {},
   "source": [
    "# Домашняя работа 1"
   ]
  },
  {
   "cell_type": "markdown",
   "id": "f69275b0",
   "metadata": {},
   "source": [
    "# Задание 2\n",
    "На складе лежат разные фрукты в разном количестве.\n",
    "Нужно написать функцию, которая на вход принимает любое количество названий фруктов и их количество, а возвращает общее количество фруктов на рскладе"
   ]
  },
  {
   "cell_type": "code",
   "execution_count": 1,
   "id": "9888dd19",
   "metadata": {},
   "outputs": [],
   "source": [
    "fruit = {'Apples': 5, 'Oranges': 7, 'Bananas': 10, 'Lemons': 10}"
   ]
  },
  {
   "cell_type": "code",
   "execution_count": 2,
   "id": "add94a8c",
   "metadata": {},
   "outputs": [],
   "source": [
    "def summa(**kwargs):\n",
    "    summa = 0\n",
    "    for key, value in kwargs.items():\n",
    "        summa += value\n",
    "    print(summa)"
   ]
  },
  {
   "cell_type": "code",
   "execution_count": 3,
   "id": "a9fc5f89",
   "metadata": {},
   "outputs": [
    {
     "name": "stdout",
     "output_type": "stream",
     "text": [
      "32\n"
     ]
    }
   ],
   "source": [
    "summa(**fruit)"
   ]
  },
  {
   "cell_type": "markdown",
   "id": "d8af08f1",
   "metadata": {},
   "source": [
    "## Задание 3\n",
    "Дан список с затратами на рекламу. Но в данных есть ошибки, некоторые затраты имеют отрицательную величину. Удалите такие значения из списка и посчитайте суммарные затраты\n",
    "[100, 125, -90, 345, 655, -1, 0, 200]\n",
    "Используйте list comprehensions"
   ]
  },
  {
   "cell_type": "code",
   "execution_count": 4,
   "id": "1575346d",
   "metadata": {},
   "outputs": [],
   "source": [
    "list1 = [100, 125, -90, 345, 655, -1, 0, 200]"
   ]
  },
  {
   "cell_type": "code",
   "execution_count": 5,
   "id": "6a042045",
   "metadata": {},
   "outputs": [
    {
     "data": {
      "text/plain": [
       "1425"
      ]
     },
     "execution_count": 5,
     "metadata": {},
     "output_type": "execute_result"
    }
   ],
   "source": [
    "list2 = [i for i in list1 if i > 0]\n",
    "summa_list2 = sum(list2)\n",
    "summa_list2"
   ]
  },
  {
   "cell_type": "markdown",
   "id": "e13b0f57",
   "metadata": {},
   "source": [
    "## Задание 4\n",
    "Даны два списка.\n",
    "Дата покупки\n",
    "['2021-09-14', '2021-12-15', '2021-09-08', '2021-12-05', '2021-10-09', '2021-09-30', '2021-12-22', '2021-11-29', '2021-12-24', '2021-11-26', '2021-10-27', '2021-12-18', '2021-11-09', '2021-11-23', '2021-09-27', '2021-10-02', '2021-12-27', '2021-09-20', '2021-12-13', '2021-11-01', '2021-11-09', '2021-12-06', '2021-12-08', '2021-10-09', '2021-10-31', '2021-09-30', '2021-11-09', '2021-12-13', '2021-10-26', '2021-12-09']\n",
    "\n",
    "Суммы покупок по датам\n",
    "[1270, 8413, 9028, 3703, 5739, 4095, 295, 4944, 5723, 3701, 4471, 651, 7037, 4274, 6275, 4988, 6930, 2971, 6592, 2004, 2822, 519, 3406, 2732, 5015, 2008, 316, 6333, 5700, 2887]"
   ]
  },
  {
   "cell_type": "code",
   "execution_count": 6,
   "id": "fe8bd1ab",
   "metadata": {},
   "outputs": [],
   "source": [
    "date_purchases =  ['2021-09-14', '2021-12-15', '2021-09-08', '2021-12-05', '2021-10-09', '2021-09-30', '2021-12-22', '2021-11-29', '2021-12-24', '2021-11-26', '2021-10-27', '2021-12-18', '2021-11-09', '2021-11-23', '2021-09-27', '2021-10-02', '2021-12-27', '2021-09-20', '2021-12-13', '2021-11-01', '2021-11-09', '2021-12-06', '2021-12-08', '2021-10-09', '2021-10-31', '2021-09-30', '2021-11-09', '2021-12-13', '2021-10-26', '2021-12-09']"
   ]
  },
  {
   "cell_type": "code",
   "execution_count": 7,
   "id": "5ec59205",
   "metadata": {},
   "outputs": [],
   "source": [
    "sum_purchases = [1270, 8413, 9028, 3703, 5739, 4095, 295, 4944, 5723, 3701, 4471, 651, 7037, 4274, 6275, 4988, 6930, 2971, 6592, 2004, 2822, 519, 3406, 2732, 5015, 2008, 316, 6333, 5700, 2887]"
   ]
  },
  {
   "cell_type": "markdown",
   "id": "5a753a2d",
   "metadata": {},
   "source": [
    "## 4.1 Найдите, какая выручка у компании в ноябре\n",
    "Используйте list comprehensions"
   ]
  },
  {
   "cell_type": "code",
   "execution_count": 8,
   "id": "3187d790",
   "metadata": {},
   "outputs": [
    {
     "name": "stdout",
     "output_type": "stream",
     "text": [
      "25098\n"
     ]
    }
   ],
   "source": [
    "print(sum([s for d, s in zip(date_purchases, sum_purchases) if d[5:7] == \"11\"]))"
   ]
  },
  {
   "cell_type": "markdown",
   "id": "06f76b60",
   "metadata": {},
   "source": [
    "## 4.2 Найдите выручку компании в зависимости от месяца\n",
    "Для этого напишите функцию, которая на вход принимает список с датами и список с выручкой, а на выходе словарь, где ключи - это месяцы, а значения - это выручка."
   ]
  },
  {
   "cell_type": "code",
   "execution_count": 9,
   "id": "d3669a0f",
   "metadata": {},
   "outputs": [
    {
     "data": {
      "text/plain": [
       "[('09', 25647), ('10', 28645), ('11', 25098), ('12', 45452)]"
      ]
     },
     "execution_count": 9,
     "metadata": {},
     "output_type": "execute_result"
    }
   ],
   "source": [
    "def Revenue(d: list, s: list) -> dict:\n",
    "    Month = set([i[5:7] for i in d])\n",
    "    res = dict.fromkeys(Month, 0)\n",
    "    for i,j in enumerate(d):\n",
    "        res[j[5:7]] += s[i]\n",
    "           \n",
    "    return sorted(res.items())\n",
    "    \n",
    "Revenue(date_purchases, sum_purchases)"
   ]
  },
  {
   "cell_type": "code",
   "execution_count": null,
   "id": "f4520624",
   "metadata": {},
   "outputs": [],
   "source": []
  }
 ],
 "metadata": {
  "kernelspec": {
   "display_name": "Python 3 (ipykernel)",
   "language": "python",
   "name": "python3"
  },
  "language_info": {
   "codemirror_mode": {
    "name": "ipython",
    "version": 3
   },
   "file_extension": ".py",
   "mimetype": "text/x-python",
   "name": "python",
   "nbconvert_exporter": "python",
   "pygments_lexer": "ipython3",
   "version": "3.10.9"
  }
 },
 "nbformat": 4,
 "nbformat_minor": 5
}
